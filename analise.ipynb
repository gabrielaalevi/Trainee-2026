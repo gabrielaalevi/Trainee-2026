{
  "nbformat": 4,
  "nbformat_minor": 0,
  "metadata": {
    "colab": {
      "provenance": []
    },
    "kernelspec": {
      "name": "python3",
      "display_name": "Python 3"
    },
    "language_info": {
      "name": "python"
    }
  },
  "cells": [
    {
      "cell_type": "code",
      "execution_count": 3,
      "metadata": {
        "colab": {
          "base_uri": "https://localhost:8080/"
        },
        "id": "rdT91ygTctv7",
        "outputId": "11c5f377-e71d-4cf7-b9f9-97b35b942f54"
      },
      "outputs": [
        {
          "output_type": "stream",
          "name": "stdout",
          "text": [
            "[[0. 1. 0. 0.]\n",
            " [1. 0. 1. 1.]]\n",
            "     cidade  score_final\n",
            "0    Recife         0.25\n",
            "1  Salvador         0.75\n"
          ]
        }
      ],
      "source": [
        "#importando as bibliotecas que iremos usar\n",
        "import pandas as pd\n",
        "import numpy as np\n",
        "from sklearn.preprocessing import MinMaxScaler\n",
        "\n",
        "#Lista de capitais para entrega no Nordeste\n",
        "capitais = [\"Fortaleza\", \"Natal\", \"João Pessoa\", \"Maceió\", \"Aracaju\", \"Teresina\", \"São Luís\"]\n",
        "#População de outras capitais no Nordeste, segundo censo de 2022 do IBGE, ordenadas tal qual a lista capitais\n",
        "capitais_pop = [2428708, 751300, 833932, 957916, 602757, 866300, 1037775]\n",
        "#PIB per capita de outras capitais do Nordeste, segundo censo de 2021 do IBGE, ordenadas tal qual a lista capitais\n",
        "capitais_pib = [27164.45, 26972.28, 26936.78, 26642.20, 27364.40, 27430.28, 32739.65]\n",
        "\n",
        "#Tempo (em minutos) entre Recife/Salvador e outras capitais do Nordeste, segundo site Rotas Brasil, ordenados tal qual a lista capitais\n",
        "recife_distancias = [687, 238, 104, 192, 378, 1011, 1424]\n",
        "salvador_distancias = [918, 853, 719, 466, 268, 1018, 1432]\n",
        "\n",
        "#Tempo médio (em minutos) entre Recife/Salvador e outras capitais, ponderado pela população destas capitais\n",
        "recife_distancia_ponderada = 0\n",
        "salvador_distancia_ponderada = 0\n",
        "pesos = 0\n",
        "for i in range(0, len(capitais)):\n",
        "  recife_distancia_ponderada += recife_distancias[i] * capitais_pop[i]\n",
        "  salvador_distancia_ponderada += salvador_distancias[i] * capitais_pop[i]\n",
        "  pesos = pesos + capitais_pop[i]\n",
        "recife_distancia_ponderada = recife_distancia_ponderada/pesos\n",
        "salvador_distancia_ponderada = salvador_distancia_ponderada/pesos\n",
        "\n",
        "#Tempo médio (em minutos) entre Recife/Salvador e outras capitais, ponderado pelo PIB per capita destas capitais\n",
        "recife_distancia_pib = 0\n",
        "salvador_distancia_pib = 0\n",
        "pesos = 0\n",
        "for i in range(0, len(capitais)):\n",
        "  recife_distancia_pib += recife_distancias[i] * capitais_pib[i]\n",
        "  salvador_distancia_pib += salvador_distancias[i] * capitais_pib[i]\n",
        "  pesos = pesos + capitais_pib[i]\n",
        "recife_distancia_pib = recife_distancia_pib/pesos\n",
        "salvador_distancia_pib = salvador_distancia_pib/pesos\n",
        "\n",
        "#Custo médio por m2 (R$/m2)\n",
        "recife_custo = 7647\n",
        "salvador_custo = 8293\n",
        "\n",
        "#População em Recife/Salvador. Representam potenciais consumidores diretos, ou potencial mão de obra\n",
        "recife_pop = 1488920\n",
        "salvador_pop = 2417678\n",
        "\n",
        "#Criar DataFrame do pandas usando os dados obtidos anteriormente\n",
        "data = {\n",
        "    \"cidade\": [\"Recife\", \"Salvador\"],\n",
        "    \"distancia_ponderada\": [recife_distancia_ponderada, salvador_distancia_ponderada],\n",
        "    \"distancia_pib\": [recife_distancia_pib, salvador_distancia_pib],\n",
        "    \"custo_m2\": [recife_custo, salvador_custo],\n",
        "    \"populacao\":[recife_pop, salvador_pop]\n",
        "}\n",
        "\n",
        "df = pd.DataFrame(data)\n",
        "\n",
        "#Inverter variáveis onde maior é melhor (transformar para variáveis onde menor é melhor, necessário para o modelo)\n",
        "df[\"distancia_pib_invertida\"] = df[\"distancia_pib\"].max() - df[\"distancia_pib\"]\n",
        "\n",
        "#Selecionar colunas relevantes para a análise\n",
        "features = [\"distancia_ponderada\", \"distancia_pib_invertida\", \"custo_m2\", \"populacao\"]\n",
        "\n",
        "#Normalizar para escala 0-1\n",
        "scaler = MinMaxScaler()\n",
        "X_scaled = scaler.fit_transform(df[features])\n",
        "\n",
        "#Aplicar pesos\n",
        "pesos = np.array([0.25, 0.25, 0.25, 0.25])\n",
        "score = X_scaled.dot(pesos)\n",
        "\n",
        "#Adicionar score ao DataFrame\n",
        "df[\"score_final\"] = score\n",
        "\n",
        "#Mostrar resultado final\n",
        "df_resultado = df[[\"cidade\", \"score_final\"]].sort_values(by=\"score_final\")\n",
        "print(df_resultado)\n"
      ]
    },
    {
      "cell_type": "code",
      "source": [],
      "metadata": {
        "id": "CfxcZPDhvhnH"
      },
      "execution_count": null,
      "outputs": []
    }
  ]
}